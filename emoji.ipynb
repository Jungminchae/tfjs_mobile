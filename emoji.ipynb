{
  "nbformat": 4,
  "nbformat_minor": 0,
  "metadata": {
    "colab": {
      "name": "emoji.ipynb",
      "provenance": []
    },
    "kernelspec": {
      "name": "python3",
      "display_name": "Python 3"
    },
    "accelerator": "GPU"
  },
  "cells": [
    {
      "cell_type": "code",
      "metadata": {
        "id": "JefzBdOHui4u",
        "colab_type": "code",
        "colab": {}
      },
      "source": [
        "import os\n",
        "import numpy as np\n",
        "from tqdm import tqdm\n",
        "import tensorflow as tf\n",
        "from matplotlib import pyplot as plt\n",
        "from tensorflow.keras.callbacks import Callback\n",
        "from tensorflow.keras import backend as K \n",
        "import math"
      ],
      "execution_count": 1,
      "outputs": []
    },
    {
      "cell_type": "code",
      "metadata": {
        "id": "qVxl18z_vGsi",
        "colab_type": "code",
        "colab": {}
      },
      "source": [
        "train_x = []\n",
        "train_y = []\n",
        "eval_x = []\n",
        "eval_y = []"
      ],
      "execution_count": 2,
      "outputs": []
    },
    {
      "cell_type": "code",
      "metadata": {
        "id": "-UlHY1Mbv1EB",
        "colab_type": "code",
        "colab": {
          "base_uri": "https://localhost:8080/",
          "height": 51
        },
        "outputId": "20f5715d-1bf4-48c6-8f3f-8bbb5f425ce8"
      },
      "source": [
        "csv_path = os.getcwd() + '/fer2013.csv'\n",
        "with open(csv_path) as f:\n",
        "    for line in tqdm(f.read().splitlines()[1:]):\n",
        "        emotion, pixels, usage = line.split(',')\n",
        "    \n",
        "        x = np.array(pixels.split(' ')).astype(float).reshape(48, 48, 1) / 255\n",
        "        y = int(emotion)\n",
        "\n",
        "        if usage == 'PrivateTest':\n",
        "            eval_x.append(x)\n",
        "            eval_y.append(y)\n",
        "        else:\n",
        "            train_x.append(x)\n",
        "            train_y.append(y)\n",
        "\n",
        "print('train : {}, eval :{}'.format(len(train_x), len(eval_x)))"
      ],
      "execution_count": 6,
      "outputs": [
        {
          "output_type": "stream",
          "text": [
            "100%|██████████| 35887/35887 [00:36<00:00, 978.60it/s]\n"
          ],
          "name": "stderr"
        },
        {
          "output_type": "stream",
          "text": [
            "train : 32546, eval :3589\n"
          ],
          "name": "stdout"
        }
      ]
    },
    {
      "cell_type": "code",
      "metadata": {
        "id": "KxMxPqFuv2Lg",
        "colab_type": "code",
        "colab": {
          "base_uri": "https://localhost:8080/",
          "height": 301
        },
        "outputId": "36edec96-0276-42be-b601-6047a66c4f05"
      },
      "source": [
        "LABELS = ['Angry', 'Disgust', 'Fear', 'Happy', 'Sad', 'Surprise', 'Neutral']\n",
        "\n",
        "print(LABELS[train_y[0]])\n",
        "plt.imshow(train_x[0].reshape([48, 48]), cmap='gray')"
      ],
      "execution_count": 7,
      "outputs": [
        {
          "output_type": "stream",
          "text": [
            "Angry\n"
          ],
          "name": "stdout"
        },
        {
          "output_type": "execute_result",
          "data": {
            "text/plain": [
              "<matplotlib.image.AxesImage at 0x7f69eb8a8518>"
            ]
          },
          "metadata": {
            "tags": []
          },
          "execution_count": 7
        },
        {
          "output_type": "display_data",
          "data": {
            "image/png": "[encoded data removed]",
            "text/plain": [
              "<Figure size 432x288 with 1 Axes>"
            ]
          },
          "metadata": {
            "tags": [],
            "needs_background": "light"
          }
        }
      ]
    },
    {
      "cell_type": "code",
      "metadata": {
        "id": "u37yaE0iw6yy",
        "colab_type": "code",
        "colab": {}
      },
      "source": [
        "class CosineAnnealingScheduler(Callback):\n",
        "    \"\"\"Cosine annealing scheduler.\n",
        "    \"\"\"\n",
        "\n",
        "    def __init__(self, T_max, eta_max, eta_min=0, verbose=0):\n",
        "        super(CosineAnnealingScheduler, self).__init__()\n",
        "        self.T_max = T_max\n",
        "        self.eta_max = eta_max\n",
        "        self.eta_min = eta_min\n",
        "        self.verbose = verbose\n",
        "\n",
        "    def on_epoch_begin(self, epoch, logs=None):\n",
        "        if not hasattr(self.model.optimizer, 'lr'):\n",
        "            raise ValueError('Optimizer must have a \"lr\" attribute.')\n",
        "        lr = self.eta_min + (self.eta_max - self.eta_min) * (1 + math.cos(math.pi * epoch / self.T_max)) / 2\n",
        "        K.set_value(self.model.optimizer.lr, lr)\n",
        "        if self.verbose > 0:\n",
        "            print('\\nEpoch %05d: CosineAnnealingScheduler setting learning '\n",
        "                  'rate to %s.' % (epoch + 1, lr))\n",
        "\n",
        "    def on_epoch_end(self, epoch, logs=None):\n",
        "        logs = logs or {}\n",
        "        logs['lr'] = K.get_value(self.model.optimizer.lr)"
      ],
      "execution_count": 8,
      "outputs": []
    },
    {
      "cell_type": "code",
      "metadata": {
        "id": "gE13wQ7Y3qXT",
        "colab_type": "code",
        "colab": {}
      },
      "source": [
        "callback = CosineAnnealingScheduler(T_max=100, eta_max=1e-2, eta_min=1e-4)\n",
        "model_save = tf.keras.callbacks.ModelCheckpoint('model.h5',save_best_only=True)"
      ],
      "execution_count": 12,
      "outputs": []
    },
    {
      "cell_type": "code",
      "metadata": {
        "id": "gyzoe_G53sRF",
        "colab_type": "code",
        "colab": {
          "base_uri": "https://localhost:8080/",
          "height": 1000
        },
        "outputId": "77c6c250-177a-4e89-a420-5c711b45cf6b"
      },
      "source": [
        "# model 선언 \n",
        "model = tf.keras.applications.MobileNetV2(input_shape=(48, 48, 1), weights=None, classes=7)\n",
        "\n",
        "# model.compile\n",
        "model.compile(optimizer=tf.keras.optimizers.Adam(),\n",
        "              loss=tf.keras.losses.CategoricalCrossentropy(),\n",
        "              metrics=[tf.keras.metrics.CategoricalAccuracy()])\n",
        "\n",
        "#model.fit\n",
        "model.fit(np.stack(train_x),\n",
        "          tf.keras.utils.to_categorical(train_y),\n",
        "          epochs=120,\n",
        "          batch_size=512,\n",
        "          validation_data=(np.stack(eval_x),\n",
        "                           tf.keras.utils.to_categorical(eval_y)),callbacks=[callback,model_save])"
      ],
      "execution_count": 13,
      "outputs": [
        {
          "output_type": "stream",
          "text": [
            "Epoch 1/120\n",
            " 2/64 [..............................] - ETA: 3s - loss: 4.1306 - categorical_accuracy: 0.1855WARNING:tensorflow:Callbacks method `on_train_batch_end` is slow compared to the batch time (batch time: 0.0446s vs `on_train_batch_end` time: 0.0730s). Check your callbacks.\n",
            "64/64 [==============================] - 9s 134ms/step - loss: 2.1809 - categorical_accuracy: 0.2347 - val_loss: 1.8962 - val_categorical_accuracy: 0.1159\n",
            "Epoch 2/120\n",
            "64/64 [==============================] - 8s 125ms/step - loss: 1.7288 - categorical_accuracy: 0.3038 - val_loss: 1.8744 - val_categorical_accuracy: 0.1655\n",
            "Epoch 3/120\n",
            "64/64 [==============================] - 8s 119ms/step - loss: 1.6005 - categorical_accuracy: 0.3669 - val_loss: 2.0797 - val_categorical_accuracy: 0.1655\n",
            "Epoch 4/120\n",
            "64/64 [==============================] - 8s 120ms/step - loss: 1.5269 - categorical_accuracy: 0.4066 - val_loss: 2.2104 - val_categorical_accuracy: 0.1655\n",
            "Epoch 5/120\n",
            "64/64 [==============================] - 8s 121ms/step - loss: 1.4742 - categorical_accuracy: 0.4316 - val_loss: 2.3260 - val_categorical_accuracy: 0.1655\n",
            "Epoch 6/120\n",
            "64/64 [==============================] - 8s 121ms/step - loss: 1.4468 - categorical_accuracy: 0.4429 - val_loss: 2.3285 - val_categorical_accuracy: 0.1655\n",
            "Epoch 7/120\n",
            "64/64 [==============================] - 8s 121ms/step - loss: 1.3595 - categorical_accuracy: 0.4745 - val_loss: 2.3416 - val_categorical_accuracy: 0.1655\n",
            "Epoch 8/120\n",
            "64/64 [==============================] - 8s 121ms/step - loss: 1.3043 - categorical_accuracy: 0.4977 - val_loss: 2.3240 - val_categorical_accuracy: 0.1655\n",
            "Epoch 9/120\n",
            "64/64 [==============================] - 8s 120ms/step - loss: 1.2730 - categorical_accuracy: 0.5124 - val_loss: 2.6634 - val_categorical_accuracy: 0.1655\n",
            "Epoch 10/120\n",
            "64/64 [==============================] - 8s 120ms/step - loss: 1.2526 - categorical_accuracy: 0.5233 - val_loss: 2.5436 - val_categorical_accuracy: 0.1655\n",
            "Epoch 11/120\n",
            "64/64 [==============================] - 8s 119ms/step - loss: 1.2005 - categorical_accuracy: 0.5433 - val_loss: 2.8633 - val_categorical_accuracy: 0.1655\n",
            "Epoch 12/120\n",
            "64/64 [==============================] - 8s 120ms/step - loss: 1.1537 - categorical_accuracy: 0.5630 - val_loss: 2.9201 - val_categorical_accuracy: 0.1655\n",
            "Epoch 13/120\n",
            "64/64 [==============================] - 8s 119ms/step - loss: 1.1316 - categorical_accuracy: 0.5719 - val_loss: 2.7696 - val_categorical_accuracy: 0.1655\n",
            "Epoch 14/120\n",
            "64/64 [==============================] - 8s 120ms/step - loss: 1.0957 - categorical_accuracy: 0.5870 - val_loss: 2.7412 - val_categorical_accuracy: 0.1655\n",
            "Epoch 15/120\n",
            "64/64 [==============================] - 8s 120ms/step - loss: 1.0753 - categorical_accuracy: 0.5986 - val_loss: 2.9583 - val_categorical_accuracy: 0.1655\n",
            "Epoch 16/120\n",
            "64/64 [==============================] - 8s 121ms/step - loss: 1.0253 - categorical_accuracy: 0.6157 - val_loss: 2.9337 - val_categorical_accuracy: 0.1655\n",
            "Epoch 17/120\n",
            "64/64 [==============================] - 8s 121ms/step - loss: 1.0090 - categorical_accuracy: 0.6258 - val_loss: 2.7218 - val_categorical_accuracy: 0.1655\n",
            "Epoch 18/120\n",
            "64/64 [==============================] - 8s 121ms/step - loss: 0.9725 - categorical_accuracy: 0.6406 - val_loss: 2.6926 - val_categorical_accuracy: 0.1655\n",
            "Epoch 19/120\n",
            "64/64 [==============================] - 8s 121ms/step - loss: 0.9116 - categorical_accuracy: 0.6632 - val_loss: 2.4805 - val_categorical_accuracy: 0.1677\n",
            "Epoch 20/120\n",
            "64/64 [==============================] - 8s 120ms/step - loss: 0.8890 - categorical_accuracy: 0.6705 - val_loss: 2.6787 - val_categorical_accuracy: 0.1661\n",
            "Epoch 21/120\n",
            "64/64 [==============================] - 8s 121ms/step - loss: 0.8635 - categorical_accuracy: 0.6818 - val_loss: 2.5383 - val_categorical_accuracy: 0.1978\n",
            "Epoch 22/120\n",
            "64/64 [==============================] - 8s 120ms/step - loss: 0.8508 - categorical_accuracy: 0.6873 - val_loss: 2.2008 - val_categorical_accuracy: 0.2597\n",
            "Epoch 23/120\n",
            "64/64 [==============================] - 8s 120ms/step - loss: 0.8527 - categorical_accuracy: 0.6848 - val_loss: 2.4210 - val_categorical_accuracy: 0.2981\n",
            "Epoch 24/120\n",
            "64/64 [==============================] - 8s 120ms/step - loss: 0.7878 - categorical_accuracy: 0.7108 - val_loss: 2.1909 - val_categorical_accuracy: 0.3497\n",
            "Epoch 25/120\n",
            "64/64 [==============================] - 8s 120ms/step - loss: 0.7491 - categorical_accuracy: 0.7213 - val_loss: 2.6216 - val_categorical_accuracy: 0.3199\n",
            "Epoch 26/120\n",
            "64/64 [==============================] - 8s 120ms/step - loss: 0.7088 - categorical_accuracy: 0.7409 - val_loss: 2.6470 - val_categorical_accuracy: 0.4115\n",
            "Epoch 27/120\n",
            "64/64 [==============================] - 8s 120ms/step - loss: 0.6872 - categorical_accuracy: 0.7491 - val_loss: 2.7194 - val_categorical_accuracy: 0.3840\n",
            "Epoch 28/120\n",
            "64/64 [==============================] - 8s 120ms/step - loss: 0.6578 - categorical_accuracy: 0.7614 - val_loss: 3.4474 - val_categorical_accuracy: 0.3469\n",
            "Epoch 29/120\n",
            "64/64 [==============================] - 8s 120ms/step - loss: 0.6267 - categorical_accuracy: 0.7731 - val_loss: 3.7826 - val_categorical_accuracy: 0.3430\n",
            "Epoch 30/120\n",
            "64/64 [==============================] - 8s 120ms/step - loss: 0.5894 - categorical_accuracy: 0.7870 - val_loss: 4.0702 - val_categorical_accuracy: 0.3374\n",
            "Epoch 31/120\n",
            "64/64 [==============================] - 8s 120ms/step - loss: 0.5591 - categorical_accuracy: 0.7978 - val_loss: 5.3977 - val_categorical_accuracy: 0.3115\n",
            "Epoch 32/120\n",
            "64/64 [==============================] - 8s 120ms/step - loss: 0.5283 - categorical_accuracy: 0.8101 - val_loss: 4.6939 - val_categorical_accuracy: 0.3204\n",
            "Epoch 33/120\n",
            "64/64 [==============================] - 8s 120ms/step - loss: 0.5158 - categorical_accuracy: 0.8139 - val_loss: 5.2358 - val_categorical_accuracy: 0.2895\n",
            "Epoch 34/120\n",
            "64/64 [==============================] - 8s 120ms/step - loss: 0.4858 - categorical_accuracy: 0.8225 - val_loss: 6.0409 - val_categorical_accuracy: 0.2786\n",
            "Epoch 35/120\n",
            "64/64 [==============================] - 8s 120ms/step - loss: 0.4361 - categorical_accuracy: 0.8442 - val_loss: 6.1546 - val_categorical_accuracy: 0.2694\n",
            "Epoch 36/120\n",
            "64/64 [==============================] - 8s 120ms/step - loss: 0.4210 - categorical_accuracy: 0.8487 - val_loss: 8.1962 - val_categorical_accuracy: 0.1939\n",
            "Epoch 37/120\n",
            "64/64 [==============================] - 8s 120ms/step - loss: 0.3901 - categorical_accuracy: 0.8595 - val_loss: 9.1370 - val_categorical_accuracy: 0.2162\n",
            "Epoch 38/120\n",
            "64/64 [==============================] - 8s 120ms/step - loss: 0.3714 - categorical_accuracy: 0.8664 - val_loss: 6.9482 - val_categorical_accuracy: 0.2700\n",
            "Epoch 39/120\n",
            "64/64 [==============================] - 8s 120ms/step - loss: 0.3484 - categorical_accuracy: 0.8728 - val_loss: 11.2506 - val_categorical_accuracy: 0.1744\n",
            "Epoch 40/120\n",
            "64/64 [==============================] - 8s 120ms/step - loss: 0.3149 - categorical_accuracy: 0.8867 - val_loss: 8.4424 - val_categorical_accuracy: 0.2210\n",
            "Epoch 41/120\n",
            "64/64 [==============================] - 8s 120ms/step - loss: 0.2853 - categorical_accuracy: 0.8997 - val_loss: 9.6060 - val_categorical_accuracy: 0.1920\n",
            "Epoch 42/120\n",
            "64/64 [==============================] - 8s 120ms/step - loss: 0.2556 - categorical_accuracy: 0.9095 - val_loss: 8.7451 - val_categorical_accuracy: 0.2711\n",
            "Epoch 43/120\n",
            "64/64 [==============================] - 8s 121ms/step - loss: 0.2516 - categorical_accuracy: 0.9116 - val_loss: 8.4613 - val_categorical_accuracy: 0.2469\n",
            "Epoch 44/120\n",
            "64/64 [==============================] - 8s 121ms/step - loss: 0.2200 - categorical_accuracy: 0.9218 - val_loss: 9.7644 - val_categorical_accuracy: 0.2109\n",
            "Epoch 45/120\n",
            "64/64 [==============================] - 8s 121ms/step - loss: 0.2046 - categorical_accuracy: 0.9291 - val_loss: 9.2535 - val_categorical_accuracy: 0.2678\n",
            "Epoch 46/120\n",
            "64/64 [==============================] - 8s 121ms/step - loss: 0.1857 - categorical_accuracy: 0.9353 - val_loss: 9.2237 - val_categorical_accuracy: 0.2399\n",
            "Epoch 47/120\n",
            "64/64 [==============================] - 8s 120ms/step - loss: 0.1645 - categorical_accuracy: 0.9429 - val_loss: 9.5639 - val_categorical_accuracy: 0.2666\n",
            "Epoch 48/120\n",
            "64/64 [==============================] - 8s 120ms/step - loss: 0.1597 - categorical_accuracy: 0.9446 - val_loss: 9.8015 - val_categorical_accuracy: 0.2513\n",
            "Epoch 49/120\n",
            "64/64 [==============================] - 8s 121ms/step - loss: 0.1391 - categorical_accuracy: 0.9520 - val_loss: 9.2875 - val_categorical_accuracy: 0.2708\n",
            "Epoch 50/120\n",
            "64/64 [==============================] - 8s 121ms/step - loss: 0.1228 - categorical_accuracy: 0.9567 - val_loss: 9.6880 - val_categorical_accuracy: 0.2608\n",
            "Epoch 51/120\n",
            "64/64 [==============================] - 8s 120ms/step - loss: 0.1146 - categorical_accuracy: 0.9605 - val_loss: 9.4030 - val_categorical_accuracy: 0.2806\n",
            "Epoch 52/120\n",
            "64/64 [==============================] - 8s 120ms/step - loss: 0.1053 - categorical_accuracy: 0.9641 - val_loss: 10.3503 - val_categorical_accuracy: 0.2558\n",
            "Epoch 53/120\n",
            "64/64 [==============================] - 8s 120ms/step - loss: 0.1023 - categorical_accuracy: 0.9649 - val_loss: 8.5995 - val_categorical_accuracy: 0.2455\n",
            "Epoch 54/120\n",
            "64/64 [==============================] - 8s 120ms/step - loss: 0.0914 - categorical_accuracy: 0.9688 - val_loss: 8.6096 - val_categorical_accuracy: 0.2633\n",
            "Epoch 55/120\n",
            "64/64 [==============================] - 8s 120ms/step - loss: 0.0729 - categorical_accuracy: 0.9747 - val_loss: 10.3313 - val_categorical_accuracy: 0.2388\n",
            "Epoch 56/120\n",
            "64/64 [==============================] - 8s 120ms/step - loss: 0.0788 - categorical_accuracy: 0.9729 - val_loss: 9.4030 - val_categorical_accuracy: 0.2494\n",
            "Epoch 57/120\n",
            "64/64 [==============================] - 8s 120ms/step - loss: 0.0622 - categorical_accuracy: 0.9787 - val_loss: 9.3783 - val_categorical_accuracy: 0.2786\n",
            "Epoch 58/120\n",
            "64/64 [==============================] - 8s 120ms/step - loss: 0.0555 - categorical_accuracy: 0.9817 - val_loss: 7.8035 - val_categorical_accuracy: 0.2772\n",
            "Epoch 59/120\n",
            "64/64 [==============================] - 8s 120ms/step - loss: 0.0495 - categorical_accuracy: 0.9842 - val_loss: 8.7792 - val_categorical_accuracy: 0.2928\n",
            "Epoch 60/120\n",
            "64/64 [==============================] - 8s 120ms/step - loss: 0.0418 - categorical_accuracy: 0.9867 - val_loss: 9.0837 - val_categorical_accuracy: 0.2633\n",
            "Epoch 61/120\n",
            "64/64 [==============================] - 8s 120ms/step - loss: 0.0386 - categorical_accuracy: 0.9870 - val_loss: 7.6680 - val_categorical_accuracy: 0.3098\n",
            "Epoch 62/120\n",
            "64/64 [==============================] - 8s 121ms/step - loss: 0.0355 - categorical_accuracy: 0.9882 - val_loss: 7.3520 - val_categorical_accuracy: 0.3633\n",
            "Epoch 63/120\n",
            "64/64 [==============================] - 8s 120ms/step - loss: 0.0324 - categorical_accuracy: 0.9897 - val_loss: 6.8448 - val_categorical_accuracy: 0.3597\n",
            "Epoch 64/120\n",
            "64/64 [==============================] - 8s 120ms/step - loss: 0.0301 - categorical_accuracy: 0.9898 - val_loss: 7.0960 - val_categorical_accuracy: 0.3486\n",
            "Epoch 65/120\n",
            "64/64 [==============================] - 8s 120ms/step - loss: 0.0249 - categorical_accuracy: 0.9921 - val_loss: 6.6524 - val_categorical_accuracy: 0.3678\n",
            "Epoch 66/120\n",
            "64/64 [==============================] - 8s 120ms/step - loss: 0.0216 - categorical_accuracy: 0.9929 - val_loss: 6.6349 - val_categorical_accuracy: 0.3884\n",
            "Epoch 67/120\n",
            "64/64 [==============================] - 8s 120ms/step - loss: 0.0187 - categorical_accuracy: 0.9938 - val_loss: 6.2413 - val_categorical_accuracy: 0.3940\n",
            "Epoch 68/120\n",
            "64/64 [==============================] - 8s 121ms/step - loss: 0.0166 - categorical_accuracy: 0.9939 - val_loss: 6.1378 - val_categorical_accuracy: 0.4124\n",
            "Epoch 69/120\n",
            "64/64 [==============================] - 8s 121ms/step - loss: 0.0152 - categorical_accuracy: 0.9944 - val_loss: 6.0758 - val_categorical_accuracy: 0.4227\n",
            "Epoch 70/120\n",
            "64/64 [==============================] - 8s 121ms/step - loss: 0.0138 - categorical_accuracy: 0.9956 - val_loss: 6.2082 - val_categorical_accuracy: 0.4324\n",
            "Epoch 71/120\n",
            "64/64 [==============================] - 8s 120ms/step - loss: 0.0091 - categorical_accuracy: 0.9963 - val_loss: 5.6674 - val_categorical_accuracy: 0.4511\n",
            "Epoch 72/120\n",
            "64/64 [==============================] - 8s 120ms/step - loss: 0.0077 - categorical_accuracy: 0.9972 - val_loss: 5.5571 - val_categorical_accuracy: 0.4528\n",
            "Epoch 73/120\n",
            "64/64 [==============================] - 8s 121ms/step - loss: 0.0066 - categorical_accuracy: 0.9971 - val_loss: 5.4172 - val_categorical_accuracy: 0.4670\n",
            "Epoch 74/120\n",
            "64/64 [==============================] - 8s 120ms/step - loss: 0.0054 - categorical_accuracy: 0.9975 - val_loss: 5.2589 - val_categorical_accuracy: 0.4801\n",
            "Epoch 75/120\n",
            "64/64 [==============================] - 8s 121ms/step - loss: 0.0052 - categorical_accuracy: 0.9974 - val_loss: 5.1200 - val_categorical_accuracy: 0.4921\n",
            "Epoch 76/120\n",
            "64/64 [==============================] - 8s 120ms/step - loss: 0.0050 - categorical_accuracy: 0.9974 - val_loss: 5.0611 - val_categorical_accuracy: 0.5040\n",
            "Epoch 77/120\n",
            "64/64 [==============================] - 8s 120ms/step - loss: 0.0048 - categorical_accuracy: 0.9974 - val_loss: 4.9716 - val_categorical_accuracy: 0.5121\n",
            "Epoch 78/120\n",
            "64/64 [==============================] - 8s 121ms/step - loss: 0.0048 - categorical_accuracy: 0.9974 - val_loss: 4.8700 - val_categorical_accuracy: 0.5213\n",
            "Epoch 79/120\n",
            "64/64 [==============================] - 8s 120ms/step - loss: 0.0047 - categorical_accuracy: 0.9976 - val_loss: 4.7769 - val_categorical_accuracy: 0.5291\n",
            "Epoch 80/120\n",
            "64/64 [==============================] - 8s 120ms/step - loss: 0.0045 - categorical_accuracy: 0.9977 - val_loss: 4.6994 - val_categorical_accuracy: 0.5386\n",
            "Epoch 81/120\n",
            "64/64 [==============================] - 8s 121ms/step - loss: 0.0044 - categorical_accuracy: 0.9975 - val_loss: 4.6409 - val_categorical_accuracy: 0.5439\n",
            "Epoch 82/120\n",
            "64/64 [==============================] - 8s 121ms/step - loss: 0.0045 - categorical_accuracy: 0.9977 - val_loss: 4.5767 - val_categorical_accuracy: 0.5486\n",
            "Epoch 83/120\n",
            "64/64 [==============================] - 8s 121ms/step - loss: 0.0043 - categorical_accuracy: 0.9978 - val_loss: 4.5144 - val_categorical_accuracy: 0.5534\n",
            "Epoch 84/120\n",
            "64/64 [==============================] - 8s 121ms/step - loss: 0.0043 - categorical_accuracy: 0.9975 - val_loss: 4.4785 - val_categorical_accuracy: 0.5497\n",
            "Epoch 85/120\n",
            "64/64 [==============================] - 8s 120ms/step - loss: 0.0040 - categorical_accuracy: 0.9979 - val_loss: 4.4402 - val_categorical_accuracy: 0.5567\n",
            "Epoch 86/120\n",
            "64/64 [==============================] - 8s 120ms/step - loss: 0.0040 - categorical_accuracy: 0.9975 - val_loss: 4.4079 - val_categorical_accuracy: 0.5592\n",
            "Epoch 87/120\n",
            "64/64 [==============================] - 8s 121ms/step - loss: 0.0040 - categorical_accuracy: 0.9977 - val_loss: 4.3995 - val_categorical_accuracy: 0.5620\n",
            "Epoch 88/120\n",
            "64/64 [==============================] - 8s 120ms/step - loss: 0.0040 - categorical_accuracy: 0.9978 - val_loss: 4.3798 - val_categorical_accuracy: 0.5631\n",
            "Epoch 89/120\n",
            "64/64 [==============================] - 8s 120ms/step - loss: 0.0037 - categorical_accuracy: 0.9980 - val_loss: 4.3584 - val_categorical_accuracy: 0.5645\n",
            "Epoch 90/120\n",
            "64/64 [==============================] - 8s 120ms/step - loss: 0.0039 - categorical_accuracy: 0.9977 - val_loss: 4.3409 - val_categorical_accuracy: 0.5634\n",
            "Epoch 91/120\n",
            "64/64 [==============================] - 8s 120ms/step - loss: 0.0037 - categorical_accuracy: 0.9978 - val_loss: 4.3268 - val_categorical_accuracy: 0.5637\n",
            "Epoch 92/120\n",
            "64/64 [==============================] - 8s 120ms/step - loss: 0.0038 - categorical_accuracy: 0.9979 - val_loss: 4.3137 - val_categorical_accuracy: 0.5665\n",
            "Epoch 93/120\n",
            "64/64 [==============================] - 8s 121ms/step - loss: 0.0038 - categorical_accuracy: 0.9978 - val_loss: 4.3108 - val_categorical_accuracy: 0.5667\n",
            "Epoch 94/120\n",
            "64/64 [==============================] - 8s 120ms/step - loss: 0.0036 - categorical_accuracy: 0.9981 - val_loss: 4.3028 - val_categorical_accuracy: 0.5684\n",
            "Epoch 95/120\n",
            "64/64 [==============================] - 8s 120ms/step - loss: 0.0036 - categorical_accuracy: 0.9979 - val_loss: 4.2961 - val_categorical_accuracy: 0.5684\n",
            "Epoch 96/120\n",
            "64/64 [==============================] - 8s 120ms/step - loss: 0.0036 - categorical_accuracy: 0.9978 - val_loss: 4.2910 - val_categorical_accuracy: 0.5701\n",
            "Epoch 97/120\n",
            "64/64 [==============================] - 8s 120ms/step - loss: 0.0034 - categorical_accuracy: 0.9982 - val_loss: 4.2851 - val_categorical_accuracy: 0.5701\n",
            "Epoch 98/120\n",
            "64/64 [==============================] - 8s 120ms/step - loss: 0.0036 - categorical_accuracy: 0.9979 - val_loss: 4.2803 - val_categorical_accuracy: 0.5698\n",
            "Epoch 99/120\n",
            "64/64 [==============================] - 8s 120ms/step - loss: 0.0034 - categorical_accuracy: 0.9981 - val_loss: 4.2788 - val_categorical_accuracy: 0.5687\n",
            "Epoch 100/120\n",
            "64/64 [==============================] - 8s 120ms/step - loss: 0.0035 - categorical_accuracy: 0.9982 - val_loss: 4.2778 - val_categorical_accuracy: 0.5673\n",
            "Epoch 101/120\n",
            "64/64 [==============================] - 8s 120ms/step - loss: 0.0036 - categorical_accuracy: 0.9977 - val_loss: 4.2778 - val_categorical_accuracy: 0.5667\n",
            "Epoch 102/120\n",
            "64/64 [==============================] - 8s 120ms/step - loss: 0.0035 - categorical_accuracy: 0.9982 - val_loss: 4.2790 - val_categorical_accuracy: 0.5676\n",
            "Epoch 103/120\n",
            "64/64 [==============================] - 8s 120ms/step - loss: 0.0036 - categorical_accuracy: 0.9980 - val_loss: 4.2816 - val_categorical_accuracy: 0.5681\n",
            "Epoch 104/120\n",
            "64/64 [==============================] - 8s 120ms/step - loss: 0.0036 - categorical_accuracy: 0.9981 - val_loss: 4.2814 - val_categorical_accuracy: 0.5695\n",
            "Epoch 105/120\n",
            "64/64 [==============================] - 8s 120ms/step - loss: 0.0036 - categorical_accuracy: 0.9981 - val_loss: 4.2838 - val_categorical_accuracy: 0.5698\n",
            "Epoch 106/120\n",
            "64/64 [==============================] - 8s 120ms/step - loss: 0.0037 - categorical_accuracy: 0.9980 - val_loss: 4.2845 - val_categorical_accuracy: 0.5681\n",
            "Epoch 107/120\n",
            "64/64 [==============================] - 8s 120ms/step - loss: 0.0036 - categorical_accuracy: 0.9979 - val_loss: 4.2886 - val_categorical_accuracy: 0.5665\n",
            "Epoch 108/120\n",
            "64/64 [==============================] - 8s 120ms/step - loss: 0.0038 - categorical_accuracy: 0.9978 - val_loss: 4.2961 - val_categorical_accuracy: 0.5678\n",
            "Epoch 109/120\n",
            "64/64 [==============================] - 8s 120ms/step - loss: 0.0038 - categorical_accuracy: 0.9979 - val_loss: 4.2916 - val_categorical_accuracy: 0.5678\n",
            "Epoch 110/120\n",
            "64/64 [==============================] - 8s 120ms/step - loss: 0.0040 - categorical_accuracy: 0.9977 - val_loss: 4.2884 - val_categorical_accuracy: 0.5670\n",
            "Epoch 111/120\n",
            "64/64 [==============================] - 8s 120ms/step - loss: 0.0040 - categorical_accuracy: 0.9978 - val_loss: 4.2879 - val_categorical_accuracy: 0.5676\n",
            "Epoch 112/120\n",
            "64/64 [==============================] - 8s 120ms/step - loss: 0.0043 - categorical_accuracy: 0.9977 - val_loss: 4.2838 - val_categorical_accuracy: 0.5692\n",
            "Epoch 113/120\n",
            "64/64 [==============================] - 8s 120ms/step - loss: 0.0042 - categorical_accuracy: 0.9978 - val_loss: 4.2879 - val_categorical_accuracy: 0.5681\n",
            "Epoch 114/120\n",
            "64/64 [==============================] - 8s 120ms/step - loss: 0.0046 - categorical_accuracy: 0.9974 - val_loss: 4.2710 - val_categorical_accuracy: 0.5690\n",
            "Epoch 115/120\n",
            "64/64 [==============================] - 8s 120ms/step - loss: 0.0046 - categorical_accuracy: 0.9975 - val_loss: 4.2679 - val_categorical_accuracy: 0.5676\n",
            "Epoch 116/120\n",
            "64/64 [==============================] - 8s 120ms/step - loss: 0.0047 - categorical_accuracy: 0.9975 - val_loss: 4.2546 - val_categorical_accuracy: 0.5701\n",
            "Epoch 117/120\n",
            "64/64 [==============================] - 8s 120ms/step - loss: 0.0044 - categorical_accuracy: 0.9976 - val_loss: 4.2556 - val_categorical_accuracy: 0.5681\n",
            "Epoch 118/120\n",
            "64/64 [==============================] - 8s 120ms/step - loss: 0.0051 - categorical_accuracy: 0.9977 - val_loss: 4.2145 - val_categorical_accuracy: 0.5684\n",
            "Epoch 119/120\n",
            "64/64 [==============================] - 8s 120ms/step - loss: 0.0056 - categorical_accuracy: 0.9973 - val_loss: 4.1644 - val_categorical_accuracy: 0.5748\n",
            "Epoch 120/120\n",
            "64/64 [==============================] - 8s 120ms/step - loss: 0.0054 - categorical_accuracy: 0.9974 - val_loss: 4.0964 - val_categorical_accuracy: 0.5706\n"
          ],
          "name": "stdout"
        },
        {
          "output_type": "execute_result",
          "data": {
            "text/plain": [
              "<tensorflow.python.keras.callbacks.History at 0x7f675e3536a0>"
            ]
          },
          "metadata": {
            "tags": []
          },
          "execution_count": 13
        }
      ]
    },
    {
      "cell_type": "code",
      "metadata": {
        "id": "NjjMcrMeAUXj",
        "colab_type": "code",
        "colab": {}
      },
      "source": [
        "model2 = tf.keras.models.load_model('model.h5')"
      ],
      "execution_count": 15,
      "outputs": []
    }
  ]
}